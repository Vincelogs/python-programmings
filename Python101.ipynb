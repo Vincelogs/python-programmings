{
  "cells": [
    {
      "cell_type": "markdown",
      "metadata": {
        "id": "view-in-github",
        "colab_type": "text"
      },
      "source": [
        "<a href=\"https://colab.research.google.com/github/Vincelogs/python-programmings/blob/main/Python101.ipynb\" target=\"_parent\"><img src=\"https://colab.research.google.com/assets/colab-badge.svg\" alt=\"Open In Colab\"/></a>"
      ]
    },
    {
      "cell_type": "markdown",
      "metadata": {
        "deletable": true,
        "editable": true,
        "id": "7uIBvgCc33SE"
      },
      "source": [
        "# Python Basics"
      ]
    },
    {
      "cell_type": "markdown",
      "metadata": {
        "deletable": true,
        "editable": true,
        "id": "yLIV0Y1M33SN"
      },
      "source": [
        "## Whitespace Is Important"
      ]
    },
    {
      "cell_type": "code",
      "execution_count": 2,
      "metadata": {
        "deletable": true,
        "editable": true,
        "colab": {
          "base_uri": "https://localhost:8080/"
        },
        "id": "-hv2tuYs33ST",
        "outputId": "b307d73e-3484-460d-9aa9-78f06bb11846"
      },
      "outputs": [
        {
          "output_type": "stream",
          "name": "stdout",
          "text": [
            "1\n",
            "is odd\n",
            "2\n",
            "is even\n",
            "3\n",
            "is odd\n",
            "4\n",
            "is even\n",
            "5\n",
            "is odd\n",
            "6\n",
            "is even\n",
            "All done.\n",
            "hurray!\n"
          ]
        }
      ],
      "source": [
        "listOfNumbers = [1, 2, 3, 4, 5, 6]\n",
        "\n",
        "for number in listOfNumbers:\n",
        "    print(number)\n",
        "    if (number % 2 == 0):\n",
        "        print(\"is even\")\n",
        "    else:\n",
        "        print(\"is odd\")\n",
        "        \n",
        "print (\"All done.\")\n",
        "print (\"hurray!\")\n",
        "        "
      ]
    },
    {
      "cell_type": "markdown",
      "metadata": {
        "deletable": true,
        "editable": true,
        "id": "2yUlh7yq33Sa"
      },
      "source": [
        "## Importing Modules"
      ]
    },
    {
      "cell_type": "code",
      "execution_count": null,
      "metadata": {
        "deletable": true,
        "editable": true,
        "id": "qD96_sTo33Se",
        "outputId": "6e98578b-393d-4a25-aa8f-2d738e225332"
      },
      "outputs": [
        {
          "name": "stdout",
          "output_type": "stream",
          "text": [
            "[ 30.82312518  31.25675426  25.7345228   27.93685856  27.10292243\n",
            "  23.8276339   27.89052469  22.72908952  25.82612424  28.26734292]\n"
          ]
        }
      ],
      "source": [
        "import numpy as np\n",
        "\n",
        "A = np.random.normal(25.0, 5.0, 10)\n",
        "print (A)"
      ]
    },
    {
      "cell_type": "markdown",
      "metadata": {
        "deletable": true,
        "editable": true,
        "id": "N_JCBTmg33Sg"
      },
      "source": [
        "## Lists"
      ]
    },
    {
      "cell_type": "code",
      "execution_count": null,
      "metadata": {
        "deletable": true,
        "editable": true,
        "id": "v0GG_Lh133Sj",
        "outputId": "7d9e99d7-da66-46a3-88e0-decae30b9a62"
      },
      "outputs": [
        {
          "name": "stdout",
          "output_type": "stream",
          "text": [
            "6\n"
          ]
        }
      ],
      "source": [
        "x = [1, 2, 3, 4, 5, 6]\n",
        "print(len(x))"
      ]
    },
    {
      "cell_type": "code",
      "execution_count": null,
      "metadata": {
        "deletable": true,
        "editable": true,
        "id": "Ic0UEGfJ33Sm",
        "outputId": "b2e5229d-2b77-4b8e-9b58-b5f51e4df241"
      },
      "outputs": [
        {
          "data": {
            "text/plain": [
              "[1, 2, 3]"
            ]
          },
          "execution_count": 6,
          "metadata": {},
          "output_type": "execute_result"
        }
      ],
      "source": [
        "x[:3]"
      ]
    },
    {
      "cell_type": "code",
      "execution_count": null,
      "metadata": {
        "deletable": true,
        "editable": true,
        "id": "FECUX6aK33Sw",
        "outputId": "da71788b-e4be-4f08-ccc3-684525e8ba36"
      },
      "outputs": [
        {
          "data": {
            "text/plain": [
              "[4, 5, 6]"
            ]
          },
          "execution_count": 7,
          "metadata": {},
          "output_type": "execute_result"
        }
      ],
      "source": [
        "x[3:]"
      ]
    },
    {
      "cell_type": "code",
      "execution_count": null,
      "metadata": {
        "deletable": true,
        "editable": true,
        "id": "RC4Q8LXq33S0",
        "outputId": "d0145e29-6f78-405f-ae65-f4b862579605"
      },
      "outputs": [
        {
          "data": {
            "text/plain": [
              "[5, 6]"
            ]
          },
          "execution_count": 8,
          "metadata": {},
          "output_type": "execute_result"
        }
      ],
      "source": [
        "x[-2:]"
      ]
    },
    {
      "cell_type": "code",
      "execution_count": null,
      "metadata": {
        "deletable": true,
        "editable": true,
        "id": "KMJAkEt533S3",
        "outputId": "ad3d9867-7c95-40c9-c8cb-79ec2f15073a"
      },
      "outputs": [
        {
          "data": {
            "text/plain": [
              "[1, 2, 3, 4, 5, 6, 7, 8]"
            ]
          },
          "execution_count": 9,
          "metadata": {},
          "output_type": "execute_result"
        }
      ],
      "source": [
        "x.extend([7,8])\n",
        "x"
      ]
    },
    {
      "cell_type": "code",
      "execution_count": null,
      "metadata": {
        "deletable": true,
        "editable": true,
        "id": "7kZpd4Dk33S7",
        "outputId": "64a1d2a4-c596-483c-819f-ad772b8274a7"
      },
      "outputs": [
        {
          "data": {
            "text/plain": [
              "[1, 2, 3, 4, 5, 6, 7, 8, 9]"
            ]
          },
          "execution_count": 10,
          "metadata": {},
          "output_type": "execute_result"
        }
      ],
      "source": [
        "x.append(9)\n",
        "x"
      ]
    },
    {
      "cell_type": "code",
      "execution_count": null,
      "metadata": {
        "deletable": true,
        "editable": true,
        "id": "ikvKg4oW33TA",
        "outputId": "569927cb-7cd9-402d-984d-22ac18da3e72"
      },
      "outputs": [
        {
          "data": {
            "text/plain": [
              "[[1, 2, 3, 4, 5, 6, 7, 8, 9], [10, 11, 12]]"
            ]
          },
          "execution_count": 11,
          "metadata": {},
          "output_type": "execute_result"
        }
      ],
      "source": [
        "y = [10, 11, 12]\n",
        "listOfLists = [x, y]\n",
        "listOfLists"
      ]
    },
    {
      "cell_type": "code",
      "execution_count": null,
      "metadata": {
        "deletable": true,
        "editable": true,
        "id": "tLIkntxy33TE",
        "outputId": "43cf1bca-5bd1-4c9e-ebf3-f6d5597bbfbb"
      },
      "outputs": [
        {
          "data": {
            "text/plain": [
              "11"
            ]
          },
          "execution_count": 12,
          "metadata": {},
          "output_type": "execute_result"
        }
      ],
      "source": [
        "y[1]"
      ]
    },
    {
      "cell_type": "code",
      "execution_count": null,
      "metadata": {
        "deletable": true,
        "editable": true,
        "id": "pVx1f0-U33TH",
        "outputId": "0a91dde2-26d5-43e5-f230-7f6fa4944503"
      },
      "outputs": [
        {
          "data": {
            "text/plain": [
              "[1, 2, 3]"
            ]
          },
          "execution_count": 13,
          "metadata": {},
          "output_type": "execute_result"
        }
      ],
      "source": [
        "z = [3, 2, 1]\n",
        "z.sort()\n",
        "z"
      ]
    },
    {
      "cell_type": "code",
      "execution_count": null,
      "metadata": {
        "deletable": true,
        "editable": true,
        "id": "tEYeob5133TM",
        "outputId": "35b1f6fc-01bb-4298-9822-a6fc506b7194"
      },
      "outputs": [
        {
          "data": {
            "text/plain": [
              "[3, 2, 1]"
            ]
          },
          "execution_count": 14,
          "metadata": {},
          "output_type": "execute_result"
        }
      ],
      "source": [
        "z.sort(reverse=True)\n",
        "z"
      ]
    },
    {
      "cell_type": "markdown",
      "metadata": {
        "deletable": true,
        "editable": true,
        "id": "0_jYqmGv33TO"
      },
      "source": [
        "## Tuples"
      ]
    },
    {
      "cell_type": "code",
      "execution_count": null,
      "metadata": {
        "deletable": true,
        "editable": true,
        "id": "NTrORFMv33TS",
        "outputId": "69f28fdf-a3e4-41b1-9058-45da6ac045af"
      },
      "outputs": [
        {
          "data": {
            "text/plain": [
              "3"
            ]
          },
          "execution_count": 15,
          "metadata": {},
          "output_type": "execute_result"
        }
      ],
      "source": [
        "#Tuples are just immutable lists. Use () instead of []\n",
        "x = (1, 2, 3)\n",
        "len(x)"
      ]
    },
    {
      "cell_type": "code",
      "execution_count": null,
      "metadata": {
        "deletable": true,
        "editable": true,
        "id": "hk5gW2N833TU",
        "outputId": "4bde099d-3be2-4af4-8d99-b994f9c78426"
      },
      "outputs": [
        {
          "data": {
            "text/plain": [
              "6"
            ]
          },
          "execution_count": 16,
          "metadata": {},
          "output_type": "execute_result"
        }
      ],
      "source": [
        "y = (4, 5, 6)\n",
        "y[2]"
      ]
    },
    {
      "cell_type": "code",
      "execution_count": null,
      "metadata": {
        "deletable": true,
        "editable": true,
        "id": "yfq4gLW333TV",
        "outputId": "4b41b6db-cfe3-476e-f15e-ad548b950764"
      },
      "outputs": [
        {
          "data": {
            "text/plain": [
              "[(1, 2, 3), (4, 5, 6)]"
            ]
          },
          "execution_count": 17,
          "metadata": {},
          "output_type": "execute_result"
        }
      ],
      "source": [
        "listOfTuples = [x, y]\n",
        "listOfTuples"
      ]
    },
    {
      "cell_type": "code",
      "execution_count": null,
      "metadata": {
        "deletable": true,
        "editable": true,
        "id": "q8EPJzED33TV",
        "outputId": "ed6fe5c6-c1b1-49d0-a210-c8edec4e4b01"
      },
      "outputs": [
        {
          "name": "stdout",
          "output_type": "stream",
          "text": [
            "32\n",
            "120000\n"
          ]
        }
      ],
      "source": [
        "(age, income) = \"32,120000\".split(',')\n",
        "print(age)\n",
        "print(income)"
      ]
    },
    {
      "cell_type": "markdown",
      "metadata": {
        "deletable": true,
        "editable": true,
        "id": "AJ7yUYRd33TW"
      },
      "source": [
        "## Dictionaries"
      ]
    },
    {
      "cell_type": "code",
      "execution_count": null,
      "metadata": {
        "deletable": true,
        "editable": true,
        "id": "THwCuHZW33TX",
        "outputId": "80996ee9-794a-4ebb-ba7f-e337c5ec1873"
      },
      "outputs": [
        {
          "name": "stdout",
          "output_type": "stream",
          "text": [
            "Janeway\n"
          ]
        }
      ],
      "source": [
        "# Like a map or hash table in other languages\n",
        "captains = {}\n",
        "captains[\"Enterprise\"] = \"Kirk\"\n",
        "captains[\"Enterprise D\"] = \"Picard\"\n",
        "captains[\"Deep Space Nine\"] = \"Sisko\"\n",
        "captains[\"Voyager\"] = \"Janeway\"\n",
        "\n",
        "print(captains[\"Voyager\"])"
      ]
    },
    {
      "cell_type": "code",
      "execution_count": null,
      "metadata": {
        "deletable": true,
        "editable": true,
        "id": "8xuKOCsi33TZ",
        "outputId": "a37215a5-6fb1-47db-e6b5-542b6bff3b6d"
      },
      "outputs": [
        {
          "name": "stdout",
          "output_type": "stream",
          "text": [
            "Kirk\n"
          ]
        }
      ],
      "source": [
        "print(captains.get(\"Enterprise\"))"
      ]
    },
    {
      "cell_type": "code",
      "execution_count": null,
      "metadata": {
        "deletable": true,
        "editable": true,
        "id": "2TrtDItl33TZ",
        "outputId": "0abe9a6d-0f05-43b0-d3a2-7b11dd8028e7"
      },
      "outputs": [
        {
          "name": "stdout",
          "output_type": "stream",
          "text": [
            "None\n"
          ]
        }
      ],
      "source": [
        "print(captains.get(\"NX-01\"))"
      ]
    },
    {
      "cell_type": "code",
      "execution_count": null,
      "metadata": {
        "deletable": true,
        "editable": true,
        "id": "wc5cZxXr33Tc",
        "outputId": "8be71e1e-634c-4ae5-f03d-fe22f49b2301"
      },
      "outputs": [
        {
          "name": "stdout",
          "output_type": "stream",
          "text": [
            "Deep Space Nine: Sisko\n",
            "Enterprise: Kirk\n",
            "Enterprise D: Picard\n",
            "Voyager: Janeway\n"
          ]
        }
      ],
      "source": [
        "for ship in captains:\n",
        "    print(ship + \": \" + captains[ship])"
      ]
    },
    {
      "cell_type": "markdown",
      "metadata": {
        "deletable": true,
        "editable": true,
        "id": "9o9uznXA33Te"
      },
      "source": [
        "## Functions"
      ]
    },
    {
      "cell_type": "code",
      "execution_count": null,
      "metadata": {
        "deletable": true,
        "editable": true,
        "id": "Qu0Dlq6L33Tf",
        "outputId": "1bbcbaa9-317c-4858-8d01-03b4c68cf083"
      },
      "outputs": [
        {
          "name": "stdout",
          "output_type": "stream",
          "text": [
            "4\n"
          ]
        }
      ],
      "source": [
        "def SquareIt(x):\n",
        "    return x * x\n",
        "\n",
        "print(SquareIt(2))\n"
      ]
    },
    {
      "cell_type": "code",
      "execution_count": null,
      "metadata": {
        "deletable": true,
        "editable": true,
        "id": "u6_o0c7t33Tg",
        "outputId": "98bd0641-3737-4077-fced-bbf2d57665fb"
      },
      "outputs": [
        {
          "name": "stdout",
          "output_type": "stream",
          "text": [
            "9\n"
          ]
        }
      ],
      "source": [
        "#You can pass functions around as parameters\n",
        "def DoSomething(f, x):\n",
        "    return f(x)\n",
        "\n",
        "print(DoSomething(SquareIt, 3))"
      ]
    },
    {
      "cell_type": "code",
      "execution_count": null,
      "metadata": {
        "deletable": true,
        "editable": true,
        "id": "b45w8gbO33Ti",
        "outputId": "d9603a31-bce2-4458-aa7e-a2ae822462ef"
      },
      "outputs": [
        {
          "name": "stdout",
          "output_type": "stream",
          "text": [
            "27\n"
          ]
        }
      ],
      "source": [
        "#Lambda functions let you inline simple functions\n",
        "print(DoSomething(lambda x: x * x * x, 3))"
      ]
    },
    {
      "cell_type": "markdown",
      "metadata": {
        "deletable": true,
        "editable": true,
        "id": "FHDOKZcp33Tj"
      },
      "source": [
        "## Boolean Expressions"
      ]
    },
    {
      "cell_type": "code",
      "execution_count": null,
      "metadata": {
        "deletable": true,
        "editable": true,
        "id": "Mi3Q5ilo33Tl",
        "outputId": "17140859-66ee-4fe4-afb7-5260a8c184f3"
      },
      "outputs": [
        {
          "name": "stdout",
          "output_type": "stream",
          "text": [
            "False\n"
          ]
        }
      ],
      "source": [
        "print(1 == 3)"
      ]
    },
    {
      "cell_type": "code",
      "execution_count": null,
      "metadata": {
        "deletable": true,
        "editable": true,
        "id": "wmPxtL6q33Tn",
        "outputId": "df2487de-2a9f-4ac4-dfd0-b7d7c43753ca"
      },
      "outputs": [
        {
          "name": "stdout",
          "output_type": "stream",
          "text": [
            "True\n"
          ]
        }
      ],
      "source": [
        "print(True or False)"
      ]
    },
    {
      "cell_type": "code",
      "execution_count": null,
      "metadata": {
        "deletable": true,
        "editable": true,
        "id": "IlJ-3tSh33Tp",
        "outputId": "d37c215e-f13f-4e7e-9d03-8bab707631aa"
      },
      "outputs": [
        {
          "name": "stdout",
          "output_type": "stream",
          "text": [
            "False\n"
          ]
        }
      ],
      "source": [
        "print(1 is 3)"
      ]
    },
    {
      "cell_type": "code",
      "execution_count": null,
      "metadata": {
        "deletable": true,
        "editable": true,
        "id": "E3SznDfN33Tu",
        "outputId": "dceb35fd-c9e7-474a-c10d-9a189517f006"
      },
      "outputs": [
        {
          "name": "stdout",
          "output_type": "stream",
          "text": [
            "All is well with the world\n"
          ]
        }
      ],
      "source": [
        "if 1 is 3:\n",
        "    print(\"How did that happen?\")\n",
        "elif 1 > 3:\n",
        "    print(\"Yikes\")\n",
        "else:\n",
        "    print(\"All is well with the world\")"
      ]
    },
    {
      "cell_type": "markdown",
      "metadata": {
        "deletable": true,
        "editable": true,
        "id": "UAadWixX33Tw"
      },
      "source": [
        "## Looping"
      ]
    },
    {
      "cell_type": "code",
      "execution_count": null,
      "metadata": {
        "deletable": true,
        "editable": true,
        "id": "jm18j6Tf33Tz",
        "outputId": "28aacdbc-4eea-4a74-cc6f-da9d7c16a2ef"
      },
      "outputs": [
        {
          "name": "stdout",
          "output_type": "stream",
          "text": [
            "0\n",
            "1\n",
            "2\n",
            "3\n",
            "4\n",
            "5\n",
            "6\n",
            "7\n",
            "8\n",
            "9\n"
          ]
        }
      ],
      "source": [
        "for x in range(10):\n",
        "    print(x)"
      ]
    },
    {
      "cell_type": "code",
      "execution_count": null,
      "metadata": {
        "deletable": true,
        "editable": true,
        "id": "riNZZgTl33T0",
        "outputId": "cfb793a8-2c41-4348-d3a2-f8312839d4a9"
      },
      "outputs": [
        {
          "name": "stdout",
          "output_type": "stream",
          "text": [
            "0\n",
            "2\n",
            "3\n",
            "4\n",
            "5\n"
          ]
        }
      ],
      "source": [
        "for x in range(10):\n",
        "    if (x is 1):\n",
        "        continue\n",
        "    if (x > 5):\n",
        "        break\n",
        "    print(x)"
      ]
    },
    {
      "cell_type": "code",
      "execution_count": null,
      "metadata": {
        "deletable": true,
        "editable": true,
        "id": "G7i1jI5w33T2",
        "outputId": "93a48c60-5105-44df-cf7d-11d203ddcb4a"
      },
      "outputs": [
        {
          "name": "stdout",
          "output_type": "stream",
          "text": [
            "0\n",
            "1\n",
            "2\n",
            "3\n",
            "4\n",
            "5\n",
            "6\n",
            "7\n",
            "8\n",
            "9\n"
          ]
        }
      ],
      "source": [
        "x = 0\n",
        "while (x < 10):\n",
        "    print(x)\n",
        "    x += 1"
      ]
    },
    {
      "cell_type": "markdown",
      "metadata": {
        "deletable": true,
        "editable": true,
        "id": "00u2QXpm33T3"
      },
      "source": [
        "## Activity"
      ]
    },
    {
      "cell_type": "markdown",
      "metadata": {
        "deletable": true,
        "editable": true,
        "id": "0qtxp27233T4"
      },
      "source": [
        "Write some code that creates a list of integers, loops through each element of the list, and only prints out even numbers!"
      ]
    },
    {
      "cell_type": "code",
      "execution_count": null,
      "metadata": {
        "deletable": true,
        "editable": true,
        "id": "hPU_siw_33T5"
      },
      "outputs": [],
      "source": [
        ""
      ]
    }
  ],
  "metadata": {
    "kernelspec": {
      "display_name": "Python 3",
      "language": "python",
      "name": "python3"
    },
    "language_info": {
      "codemirror_mode": {
        "name": "ipython",
        "version": 3
      },
      "file_extension": ".py",
      "mimetype": "text/x-python",
      "name": "python",
      "nbconvert_exporter": "python",
      "pygments_lexer": "ipython3",
      "version": "3.5.2"
    },
    "colab": {
      "name": "Python101.ipynb",
      "provenance": [],
      "include_colab_link": true
    }
  },
  "nbformat": 4,
  "nbformat_minor": 0
}