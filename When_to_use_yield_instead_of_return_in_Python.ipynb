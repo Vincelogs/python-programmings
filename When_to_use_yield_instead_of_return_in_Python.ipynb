{
  "nbformat": 4,
  "nbformat_minor": 0,
  "metadata": {
    "colab": {
      "name": "When to use yield instead of return in Python.ipynb",
      "provenance": [],
      "authorship_tag": "ABX9TyPTh4Vi7zTIH0gRVMtbaU5t",
      "include_colab_link": true
    },
    "kernelspec": {
      "name": "python3",
      "display_name": "Python 3"
    },
    "language_info": {
      "name": "python"
    }
  },
  "cells": [
    {
      "cell_type": "markdown",
      "metadata": {
        "id": "view-in-github",
        "colab_type": "text"
      },
      "source": [
        "<a href=\"https://colab.research.google.com/github/Vincelogs/python-programmings/blob/main/When_to_use_yield_instead_of_return_in_Python.ipynb\" target=\"_parent\"><img src=\"https://colab.research.google.com/assets/colab-badge.svg\" alt=\"Open In Colab\"/></a>"
      ]
    },
    {
      "cell_type": "markdown",
      "source": [
        "The ***yield*** statement suspends function’s execution and sends a value back to the caller, but retains enough state to enable function to resume where it is left off. When resumed, the function continues execution immediately after the last yield run. This allows its code to produce a series of values over time, rather than computing them at once and sending them back like a list.\n",
        "\n",
        "\n",
        "***Return*** sends a specified value back to its caller whereas Yield can produce a sequence of values. We should use yield when we want to iterate over a sequence, but don’t want to store the entire sequence in memory. "
      ],
      "metadata": {
        "id": "D2UATlI2WRDW"
      }
    },
    {
      "cell_type": "code",
      "source": [
        "# A Python program to generate squares from 1\n",
        "# to 100 using yield and therefore generator\n",
        "  \n",
        "# An infinite generator function that prints\n",
        "# next square number. It starts with 1\n",
        "def nextSquare():\n",
        "    i = 1\n",
        "  \n",
        "    # An Infinite loop to generate squares \n",
        "    while True:\n",
        "        yield i*i                \n",
        "        i += 1  # Next execution resumes \n",
        "                # from this point     \n",
        "  \n",
        "# Driver code to test above generator \n",
        "# function\n",
        "for num in nextSquare():\n",
        "    if num > 100:\n",
        "         break    \n",
        "    print(num)"
      ],
      "metadata": {
        "colab": {
          "base_uri": "https://localhost:8080/"
        },
        "id": "MaQI4nfOWqmF",
        "outputId": "d076fed7-73e5-4811-c294-8827dd688c89"
      },
      "execution_count": 1,
      "outputs": [
        {
          "output_type": "stream",
          "name": "stdout",
          "text": [
            "1\n",
            "4\n",
            "9\n",
            "16\n",
            "25\n",
            "36\n",
            "49\n",
            "64\n",
            "81\n",
            "100\n"
          ]
        }
      ]
    }
  ]
}