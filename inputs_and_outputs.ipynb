{
  "nbformat": 4,
  "nbformat_minor": 0,
  "metadata": {
    "colab": {
      "name": "inputs and outputs.ipynb",
      "provenance": [],
      "collapsed_sections": [],
      "authorship_tag": "ABX9TyOGENUa9dIVVzAfooLzxwqO",
      "include_colab_link": true
    },
    "kernelspec": {
      "name": "python3",
      "display_name": "Python 3"
    },
    "language_info": {
      "name": "python"
    }
  },
  "cells": [
    {
      "cell_type": "markdown",
      "metadata": {
        "id": "view-in-github",
        "colab_type": "text"
      },
      "source": [
        "<a href=\"https://colab.research.google.com/github/Vincelogs/python-programmings/blob/main/inputs_and_outputs.ipynb\" target=\"_parent\"><img src=\"https://colab.research.google.com/assets/colab-badge.svg\" alt=\"Open In Colab\"/></a>"
      ]
    },
    {
      "cell_type": "code",
      "execution_count": null,
      "metadata": {
        "colab": {
          "base_uri": "https://localhost:8080/"
        },
        "id": "OJ7AKV2yJcY4",
        "outputId": "05588b5b-4943-408e-e017-3b7b8f03bae2"
      },
      "outputs": [
        {
          "output_type": "stream",
          "name": "stdout",
          "text": [
            "Enter two values: 1 3\n",
            "Number of boys:  1\n",
            "Number of girls:  3\n",
            "\n",
            "Enter three values: 4 2 5\n",
            "Total number of students:  4\n",
            "Number of boys is :  2\n",
            "Number of girls is :  5\n",
            "\n",
            "Enter two values: 5 2\n",
            "First number is 5 and second number is 2\n",
            "\n",
            "Enter multiple values:  1 2 3 4 5 7 9 0\n",
            "List of students:  [1, 2, 3, 4, 5, 7, 9, 0]\n"
          ]
        }
      ],
      "source": [
        "# Python program showing how to\n",
        "# multiple input using split\n",
        " \n",
        "# taking two inputs at a time\n",
        "x, y = input(\"Enter two values: \").split()\n",
        "print(\"Number of boys: \", x)\n",
        "print(\"Number of girls: \", y)\n",
        "print()\n",
        " \n",
        "# taking three inputs at a time\n",
        "x, y, z = input(\"Enter three values: \").split()\n",
        "print(\"Total number of students: \", x)\n",
        "print(\"Number of boys is : \", y)\n",
        "print(\"Number of girls is : \", z)\n",
        "print()\n",
        " \n",
        "# taking two inputs at a time\n",
        "a, b = input(\"Enter two values: \").split()\n",
        "print(\"First number is {} and second number is {}\".format(a, b))\n",
        "print()\n",
        " \n",
        "# taking multiple inputs at a time\n",
        "# and type casting using list() function\n",
        "x = list(map(int, input(\"Enter multiple values: \").split()))\n",
        "print(\"List of students: \", x)"
      ]
    },
    {
      "cell_type": "code",
      "source": [
        "# taking multiple inputs at a time separated by comma\n",
        "x = [int(x) for x in input(\"Enter multiple value: \").split(\",\")]\n",
        "print(\"Number of list is: \", x)"
      ],
      "metadata": {
        "colab": {
          "base_uri": "https://localhost:8080/"
        },
        "id": "i-_syaHhKkY5",
        "outputId": "494ef0c5-1a00-4302-d95b-b009885748d4"
      },
      "execution_count": null,
      "outputs": [
        {
          "output_type": "stream",
          "name": "stdout",
          "text": [
            "Enter multiple value: 2,4\n",
            "Number of list is:  [2, 4]\n"
          ]
        }
      ]
    },
    {
      "cell_type": "code",
      "source": [
        "# basic method of input output\n",
        "# input N\n",
        "n = int(input())\n",
        "\n",
        "# input the array\n",
        "arr = [int(x) for x in input().split()]\n",
        "\n",
        "# initialize variable\n",
        "summation = 0\n",
        "\n",
        "# calculate sum\n",
        "for x in arr:\n",
        "\tsummation += x\n",
        "\t\n",
        "# print answer\n",
        "print(summation)\n"
      ],
      "metadata": {
        "colab": {
          "base_uri": "https://localhost:8080/"
        },
        "id": "v-i0kNVfUSSM",
        "outputId": "4a270afc-9fc4-4efd-c436-b8debfa93d5a"
      },
      "execution_count": null,
      "outputs": [
        {
          "output_type": "stream",
          "name": "stdout",
          "text": [
            "4\n",
            "3  5 2 1 3 6\n",
            "20\n"
          ]
        }
      ]
    },
    {
      "cell_type": "code",
      "source": [
        "# import inbuilt standard input output\n",
        "from sys import stdin, stdout\n",
        "\n",
        "# suppose a function called main() and\n",
        "# all the operations are performed\n",
        "def main():\n",
        "\n",
        "\t# input via readline method\n",
        "\tn = stdin.readline()\n",
        "\n",
        "\t# array input similar method\n",
        "\tarr = [int(x) for x in stdin.readline().split()]\n",
        "\n",
        "\t#initialize variable\n",
        "\tsummation = 0\n",
        "\t\n",
        "\t# calculate sum\n",
        "\tfor x in arr:\n",
        "\t\tsummation += x\n",
        "\n",
        "\t# could use inbuilt summation = sum(arr)\n",
        "\n",
        "\t# print answer via write\n",
        "\t# write method writes only\n",
        "\t# string operations\n",
        "\t# so we need to convert any\n",
        "\t# data into string for input\n",
        "\tstdout.write(str(summation))\n",
        "\n",
        "# call the main method\n",
        "if __name__ == \"__main__\":\n",
        "\tmain()\n"
      ],
      "metadata": {
        "colab": {
          "base_uri": "https://localhost:8080/"
        },
        "id": "uYZZSAKdVPqE",
        "outputId": "bd813053-496b-4619-a3f1-78fc490194dd"
      },
      "execution_count": null,
      "outputs": [
        {
          "output_type": "stream",
          "name": "stdout",
          "text": [
            "0"
          ]
        }
      ]
    },
    {
      "cell_type": "code",
      "source": [
        "# Python 2 code for printing\n",
        "# on the same line printing\n",
        "# geeks and geeksforgeeks\n",
        "# in the same line\n",
        " \n",
        "print(\"geeks\"),\n",
        "print(\"geeksforgeeks\")\n",
        " \n",
        "# array\n",
        "a = [1, 2, 3, 4]\n",
        " \n",
        "# printing a element in same\n",
        "# line\n",
        "for i in range(4):\n",
        "    print(a[i]),"
      ],
      "metadata": {
        "id": "Fmg3-QvKgasc",
        "colab": {
          "base_uri": "https://localhost:8080/"
        },
        "outputId": "dc0d4b3e-e148-4a4a-de12-683b0dc7dedf"
      },
      "execution_count": null,
      "outputs": [
        {
          "output_type": "stream",
          "name": "stdout",
          "text": [
            "geeks\n",
            "geeksforgeeks\n",
            "1\n",
            "2\n",
            "3\n",
            "4\n"
          ]
        }
      ]
    },
    {
      "cell_type": "code",
      "source": [
        "# Python 3 code for printing\n",
        "# on the same line printing\n",
        "# geeks and geeksforgeeks\n",
        "# in the same line\n",
        " \n",
        "print(\"geeks\", end =\" \")\n",
        "print(\"geeksforgeeks\")\n",
        " \n",
        "# array\n",
        "a = [1, 2, 3, 4]\n",
        " \n",
        "# printing a element in same\n",
        "# line\n",
        "for i in range(4):\n",
        "    print(a[i], end =\" \")"
      ],
      "metadata": {
        "id": "kbyrJEJpg4-H",
        "colab": {
          "base_uri": "https://localhost:8080/"
        },
        "outputId": "d4cc157b-8ece-4a80-b40b-95d4cb2e815c"
      },
      "execution_count": null,
      "outputs": [
        {
          "output_type": "stream",
          "name": "stdout",
          "text": [
            "geeks geeksforgeeks\n",
            "1 2 3 4 "
          ]
        }
      ]
    },
    {
      "cell_type": "code",
      "source": [
        "# Print without newline in Python 3.x without using for loop\n",
        " \n",
        "l=[1,2,3,4,5,6]\n",
        " \n",
        "# using * symbol prints the list\n",
        "# elements in a single line\n",
        "print(*l)\n",
        " \n",
        "#This code is contributed by anuragsingh1022"
      ],
      "metadata": {
        "id": "BwlY579ahL6Q",
        "colab": {
          "base_uri": "https://localhost:8080/"
        },
        "outputId": "77eab3c1-f914-45a8-e289-1249d16c4820"
      },
      "execution_count": null,
      "outputs": [
        {
          "output_type": "stream",
          "name": "stdout",
          "text": [
            "1 2 3 4 5 6\n"
          ]
        }
      ]
    },
    {
      "cell_type": "code",
      "source": [
        "# Python program showing how to use\n",
        "# string modulo operator(%) to print\n",
        "# fancier output\n",
        " \n",
        "# print integer and float value\n",
        "print(\"Geeks : %2d, Portal : %5.2f\" % (1, 05.333))\n",
        " \n",
        "# print integer value\n",
        "print(\"Total students : %3d, Boys : %2d\" % (240, 120))\n",
        " \n",
        "# print octal value\n",
        "print(\"%7.3o\" % (25))\n",
        " \n",
        "# print exponential value\n",
        "print(\"%10.3E\" % (356.08977))"
      ],
      "metadata": {
        "colab": {
          "base_uri": "https://localhost:8080/"
        },
        "id": "XrnNvC3Qek96",
        "outputId": "f87ca61b-ac0f-4eac-c72d-aa6fefc59dde"
      },
      "execution_count": null,
      "outputs": [
        {
          "output_type": "stream",
          "name": "stdout",
          "text": [
            "Geeks :  1, Portal :  5.33\n",
            "Total students : 240, Boys : 120\n",
            "    031\n",
            " 3.561E+02\n"
          ]
        }
      ]
    },
    {
      "cell_type": "code",
      "source": [
        "# Python program showing\n",
        "# use of format() method\n",
        "\n",
        "# using format() method\n",
        "print('I love {} for \"{}!\"'.format('Geeks', 'Geeks'))\n",
        "\n",
        "# using format() method and referring\n",
        "# a position of the object\n",
        "print('{0} and {1}'.format('Geeks', 'Portal'))\n",
        "\n",
        "print('{1} and {0}'.format('Geeks', 'Portal'))\n",
        "\n",
        "\n",
        "# the above formatting can also be done by using f-Strings\n",
        "# Although, this features work only with python 3.6 or above.\n",
        "\n",
        "print(f\"I love {'Geeks'} for \\\"{'Geeks'}!\\\"\")\n",
        "\n",
        "# using format() method and referring\n",
        "# a position of the object\n",
        "print(f\"{'Geeks'} and {'Portal'}\")\n"
      ],
      "metadata": {
        "colab": {
          "base_uri": "https://localhost:8080/"
        },
        "id": "MKpEj42wexIX",
        "outputId": "1ccc7ab4-1b9f-4a85-809c-6023189f1c06"
      },
      "execution_count": null,
      "outputs": [
        {
          "output_type": "stream",
          "name": "stdout",
          "text": [
            "I love Geeks for \"Geeks!\"\n",
            "Geeks and Portal\n",
            "Portal and Geeks\n",
            "I love Geeks for \"Geeks!\"\n",
            "Geeks and Portal\n"
          ]
        }
      ]
    },
    {
      "cell_type": "code",
      "source": [
        "# Python program showing\n",
        "# a use of format() method\n",
        "\n",
        "# combining positional and keyword arguments\n",
        "print('Number one portal is {0}, {1}, and {other}.'\n",
        "\t.format('Geeks', 'For', other ='Geeks'))\n",
        "\n",
        "# using format() method with number\n",
        "print(\"Geeks :{0:2d}, Portal :{1:8.2f}\".\n",
        "\tformat(12, 00.546))\n",
        "\n",
        "# Changing positional argument\n",
        "print(\"Second argument: {1:3d}, first one: {0:7.2f}\".\n",
        "\tformat(47.42, 11))\n",
        "\n",
        "print(\"Geeks: {a:5d}, Portal: {p:8.2f}\".\n",
        "\tformat(a = 453, p = 59.058))\n"
      ],
      "metadata": {
        "colab": {
          "base_uri": "https://localhost:8080/"
        },
        "id": "YAcakuUne_-1",
        "outputId": "40d30493-c7d4-4f6c-e64d-e7c6f5fcbd31"
      },
      "execution_count": null,
      "outputs": [
        {
          "output_type": "stream",
          "name": "stdout",
          "text": [
            "Number one portal is Geeks, For, and Geeks.\n",
            "Geeks :12, Portal :    0.55\n",
            "Second argument:  11, first one:   47.42\n",
            "Geeks:   453, Portal:    59.06\n"
          ]
        }
      ]
    },
    {
      "cell_type": "code",
      "source": [
        "# Python program to\n",
        "# show format () is\n",
        "# used in dictionary\n",
        "\n",
        "tab = {'geeks': 4127, 'for': 4098, 'geek': 8637678}\n",
        "\n",
        "# using format() in dictionary\n",
        "print('Geeks: {0[geeks]:d}; For: {0[for]:d}; '\n",
        "\t'Geeks: {0[geek]:d}'.format(tab))\n",
        "\n",
        "data = dict(fun =\"GeeksForGeeks\", adj =\"Portal\")\n",
        "\n",
        "# using format() in dictionary\n",
        "print(\"I love {fun} computer {adj}\".format(**data))\n"
      ],
      "metadata": {
        "colab": {
          "base_uri": "https://localhost:8080/"
        },
        "id": "Ppb_NlkRfDM-",
        "outputId": "fb442d15-c3c8-4149-be78-9907e973e28f"
      },
      "execution_count": null,
      "outputs": [
        {
          "output_type": "stream",
          "name": "stdout",
          "text": [
            "Geeks: 4127; For: 4098; Geeks: 8637678\n",
            "I love GeeksForGeeks computer Portal\n"
          ]
        }
      ]
    },
    {
      "cell_type": "code",
      "source": [
        "# Python program to\n",
        "# format a output using\n",
        "# string() method\n",
        "\n",
        "cstr = \"I love geeksforgeeks\"\n",
        "\n",
        "# Printing the center aligned\n",
        "# string with fillchr\n",
        "print (\"Center aligned string with fillchr: \")\n",
        "print (cstr.center(40, '#'))\n",
        "\n",
        "# Printing the left aligned\n",
        "# string with \"-\" padding\n",
        "print (\"The left aligned string is : \")\n",
        "print (cstr.ljust(40, '-'))\n",
        "\n",
        "# Printing the right aligned string\n",
        "# with \"-\" padding\n",
        "print (\"The right aligned string is : \")\n",
        "print (cstr.rjust(40, '-'))\n"
      ],
      "metadata": {
        "id": "521S7MxwfIVI",
        "outputId": "b78c59dd-69e0-4245-c49f-acab0068834e",
        "colab": {
          "base_uri": "https://localhost:8080/"
        }
      },
      "execution_count": null,
      "outputs": [
        {
          "output_type": "stream",
          "name": "stdout",
          "text": [
            "Center aligned string with fillchr: \n",
            "##########I love geeksforgeeks##########\n",
            "The left aligned string is : \n",
            "I love geeksforgeeks--------------------\n",
            "The right aligned string is : \n",
            "--------------------I love geeksforgeeks\n"
          ]
        }
      ]
    }
  ]
}