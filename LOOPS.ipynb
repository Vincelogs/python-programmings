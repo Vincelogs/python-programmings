{
  "nbformat": 4,
  "nbformat_minor": 0,
  "metadata": {
    "colab": {
      "name": "LOOPS.ipynb",
      "provenance": [],
      "authorship_tag": "ABX9TyMLrwx34Gspn9EmT0O0GS67",
      "include_colab_link": true
    },
    "kernelspec": {
      "name": "python3",
      "display_name": "Python 3"
    },
    "language_info": {
      "name": "python"
    }
  },
  "cells": [
    {
      "cell_type": "markdown",
      "metadata": {
        "id": "view-in-github",
        "colab_type": "text"
      },
      "source": [
        "<a href=\"https://colab.research.google.com/github/Vincelogs/python-programmings/blob/main/LOOPS.ipynb\" target=\"_parent\"><img src=\"https://colab.research.google.com/assets/colab-badge.svg\" alt=\"Open In Colab\"/></a>"
      ]
    },
    {
      "cell_type": "code",
      "execution_count": 1,
      "metadata": {
        "colab": {
          "base_uri": "https://localhost:8080/"
        },
        "id": "6vtnMNDKYeBv",
        "outputId": "0cecd3ec-4bdf-4be1-8aa9-e9f8d41b89a6"
      },
      "outputs": [
        {
          "output_type": "stream",
          "name": "stdout",
          "text": [
            "Hello you\n",
            "Hello you\n",
            "Hello you\n"
          ]
        }
      ],
      "source": [
        "# Python program to illustrate\n",
        "# while loop\n",
        "count = 0\n",
        "while (count < 3):    \n",
        "    count = count + 1\n",
        "    print(\"Hello you\")"
      ]
    },
    {
      "cell_type": "code",
      "source": [
        "#Python program to illustrate\n",
        "# combining else with while\n",
        "count = 0\n",
        "while (count < 3):    \n",
        "    count = count + 1\n",
        "    print(\"Hello Geek\")\n",
        "else:\n",
        "    print(\"In Else Block\")"
      ],
      "metadata": {
        "colab": {
          "base_uri": "https://localhost:8080/"
        },
        "id": "AaGnaLIxaWHM",
        "outputId": "a530093d-1712-49d2-ae18-1bf991a2c07a"
      },
      "execution_count": 2,
      "outputs": [
        {
          "output_type": "stream",
          "name": "stdout",
          "text": [
            "Hello Geek\n",
            "Hello Geek\n",
            "Hello Geek\n",
            "In Else Block\n"
          ]
        }
      ]
    },
    {
      "cell_type": "code",
      "source": [
        "# Python program to illustrate\n",
        "# Iterating over range 0 to n-1\n",
        "  \n",
        "n = 4\n",
        "for i in range(0, n):\n",
        "    print(i)"
      ],
      "metadata": {
        "colab": {
          "base_uri": "https://localhost:8080/"
        },
        "id": "D3-evAoZaeCg",
        "outputId": "1ef254bd-6d46-4a52-89d9-197394dc8d6d"
      },
      "execution_count": 3,
      "outputs": [
        {
          "output_type": "stream",
          "name": "stdout",
          "text": [
            "0\n",
            "1\n",
            "2\n",
            "3\n"
          ]
        }
      ]
    },
    {
      "cell_type": "code",
      "source": [
        "# Python program to illustrate\n",
        "# Iterating over a list\n",
        "print(\"List Iteration\")\n",
        "l = [\"geeks\", \"for\", \"geeks\"]\n",
        "for i in l:\n",
        "\tprint(i)\n",
        "\t\n",
        "# Iterating over a tuple (immutable)\n",
        "print(\"\\nTuple Iteration\")\n",
        "t = (\"geeks\", \"for\", \"geeks\")\n",
        "for i in t:\n",
        "\tprint(i)\n",
        "\t\n",
        "# Iterating over a String\n",
        "print(\"\\nString Iteration\")\t\n",
        "s = \"Geeks\"\n",
        "for i in s :\n",
        "\tprint(i)\n",
        "\t\n",
        "# Iterating over dictionary\n",
        "print(\"\\nDictionary Iteration\")\n",
        "d = dict()\n",
        "d['xyz'] = 123\n",
        "d['abc'] = 345\n",
        "for i in d :\n",
        "\tprint(\"%s %d\" %(i, d[i]))\n",
        "\t\n",
        "#Iterating over a set\n",
        "print(\"\\nSet Iteration\")\n",
        "set1 = {1,2,3,4,5,6}\n",
        "for i in set1:\n",
        "\tprint(i),\n"
      ],
      "metadata": {
        "colab": {
          "base_uri": "https://localhost:8080/"
        },
        "id": "DvcfDProahXc",
        "outputId": "4517c45c-b2fd-453e-f400-0dd808b64f7e"
      },
      "execution_count": 4,
      "outputs": [
        {
          "output_type": "stream",
          "name": "stdout",
          "text": [
            "List Iteration\n",
            "geeks\n",
            "for\n",
            "geeks\n",
            "\n",
            "Tuple Iteration\n",
            "geeks\n",
            "for\n",
            "geeks\n",
            "\n",
            "String Iteration\n",
            "G\n",
            "e\n",
            "e\n",
            "k\n",
            "s\n",
            "\n",
            "Dictionary Iteration\n",
            "xyz 123\n",
            "abc 345\n",
            "\n",
            "Set Iteration\n",
            "1\n",
            "2\n",
            "3\n",
            "4\n",
            "5\n",
            "6\n"
          ]
        }
      ]
    },
    {
      "cell_type": "markdown",
      "source": [
        "# Loop Control Statements"
      ],
      "metadata": {
        "id": "KCpJnj8ubRy2"
      }
    },
    {
      "cell_type": "code",
      "source": [
        "# Prints all letters except 'e' and 's'\n",
        "for letter in 'geeksforgeeks':\n",
        "\tif letter == 'e' or letter == 's':\n",
        "\t\tcontinue\n",
        "\tprint ('Current Letter :', letter)\n",
        "\tvar = 10\n"
      ],
      "metadata": {
        "colab": {
          "base_uri": "https://localhost:8080/"
        },
        "id": "TUxD1ba7bUst",
        "outputId": "46eba8bd-6f2f-4ee4-bf9b-37745c4513b9"
      },
      "execution_count": 7,
      "outputs": [
        {
          "output_type": "stream",
          "name": "stdout",
          "text": [
            "Current Letter : g\n",
            "Current Letter : k\n",
            "Current Letter : f\n",
            "Current Letter : o\n",
            "Current Letter : r\n",
            "Current Letter : g\n",
            "Current Letter : k\n"
          ]
        }
      ]
    },
    {
      "cell_type": "code",
      "source": [
        "for letter in 'geeksforgeeks':\n",
        "\n",
        "\t# break the loop as soon it sees 'e'\n",
        "\t# or 's'\n",
        "\tif letter == 'e' or letter == 's':\n",
        "\t\tbreak\n",
        "\n",
        "print ('Current Letter :', letter)\n"
      ],
      "metadata": {
        "colab": {
          "base_uri": "https://localhost:8080/"
        },
        "id": "qe5hQyOPbmQd",
        "outputId": "f52696d7-3739-47d3-b112-b1c2f7109047"
      },
      "execution_count": 8,
      "outputs": [
        {
          "output_type": "stream",
          "name": "stdout",
          "text": [
            "Current Letter : e\n"
          ]
        }
      ]
    },
    {
      "cell_type": "code",
      "source": [
        "# An empty loop\n",
        "for letter in 'geeksforgeeks':\n",
        "\tpass\n",
        "print ('Last Letter :', letter)\n"
      ],
      "metadata": {
        "colab": {
          "base_uri": "https://localhost:8080/"
        },
        "id": "O8Z36UcQbshI",
        "outputId": "47610cf1-8317-479d-8339-8e3775750e18"
      },
      "execution_count": 9,
      "outputs": [
        {
          "output_type": "stream",
          "name": "stdout",
          "text": [
            "Last Letter : s\n"
          ]
        }
      ]
    },
    {
      "cell_type": "code",
      "source": [
        ""
      ],
      "metadata": {
        "id": "721rX9BugTsp"
      },
      "execution_count": null,
      "outputs": []
    }
  ]
}